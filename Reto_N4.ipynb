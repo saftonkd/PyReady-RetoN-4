{
  "nbformat": 4,
  "nbformat_minor": 0,
  "metadata": {
    "colab": {
      "provenance": [],
      "name": "Reto N4.ipynb",
      "authorship_tag": "ABX9TyPvtstepqYMvf5CUyZ3TIvB",
      "include_colab_link": true
    },
    "kernelspec": {
      "name": "python3",
      "display_name": "Python 3"
    },
    "language_info": {
      "name": "python"
    }
  },
  "cells": [
    {
      "cell_type": "markdown",
      "metadata": {
        "id": "view-in-github",
        "colab_type": "text"
      },
      "source": [
        "<a href=\"https://colab.research.google.com/github/saftonkd/PyReady-RetoN-4/blob/main/Reto_N4.ipynb\" target=\"_parent\"><img src=\"https://colab.research.google.com/assets/colab-badge.svg\" alt=\"Open In Colab\"/></a>"
      ]
    },
    {
      "cell_type": "markdown",
      "source": [
        "1. Dado un número entero, determinar si ese número corresponde al código ASCII de una vocal minúscula.\n"
      ],
      "metadata": {
        "id": "0c9m8pNjqAFo"
      }
    },
    {
      "cell_type": "code",
      "source": [
        "if __name__ == \"__main__\" :\n",
        "  z = int(input(\"Ingrese un número entero: \"))\n",
        "  if (z == 97 or z == 101 or z == 105 or z == 111 or z == 117) :\n",
        "    print(\"La vocal a la que corresponde el número en código ASCII es: \" + chr(z))\n",
        "  else :\n",
        "    print(\"El número en código ASCII no corresponde a una vocal\")"
      ],
      "metadata": {
        "colab": {
          "base_uri": "https://localhost:8080/"
        },
        "id": "VonI5qmngM-X",
        "outputId": "1ec807ab-5251-4a02-d35c-25085d27e93e"
      },
      "execution_count": null,
      "outputs": [
        {
          "output_type": "stream",
          "name": "stdout",
          "text": [
            "Ingrese un número entero: 0\n",
            "El número en código ASCII no corresponde a una vocal\n"
          ]
        }
      ]
    },
    {
      "cell_type": "markdown",
      "source": [
        "2. Dada una cadena de longitud 1, determine si el código ASCII de primera letra de la cadena es par o no.\n",
        "\n"
      ],
      "metadata": {
        "id": "I3evwabWqL65"
      }
    },
    {
      "cell_type": "code",
      "source": [
        "if __name__ == \"__main__\" :\n",
        "  char = str(input(\"Ingrese un cadena de longitud 1: \"))\n",
        "  z : int = ord(char)\n",
        "  if (z % 2) == 0 :\n",
        "    print(\"El código ASCII del carácter es par\")\n",
        "  else :\n",
        "    print(\"El código ASCII del carácter es impar\")"
      ],
      "metadata": {
        "colab": {
          "base_uri": "https://localhost:8080/"
        },
        "id": "TtJQU_g1fsPa",
        "outputId": "430af016-af3f-400a-8ece-a58e61b6b833"
      },
      "execution_count": null,
      "outputs": [
        {
          "output_type": "stream",
          "name": "stdout",
          "text": [
            "Ingrese un cadena de longitud 1: b\n",
            "El código ASCII del carácter es par\n"
          ]
        }
      ]
    },
    {
      "cell_type": "markdown",
      "source": [
        "3. Dado un carácter, construya un programa en Python para determinar si el carácter es un dígito o no."
      ],
      "metadata": {
        "id": "C80Ws8nnqSAp"
      }
    },
    {
      "cell_type": "code",
      "source": [
        "if __name__ == \"__main__\" :\n",
        "  char = str(input(\"Ingrese un carácter: \"))\n",
        "  z = ord(char)\n",
        "  if 48 <= z <= 57 :\n",
        "    print(\"El carácter corresponde a un número dígito\")\n",
        "  else :\n",
        "    print(\"El carácter no corresponde a un número dígito\")"
      ],
      "metadata": {
        "colab": {
          "base_uri": "https://localhost:8080/"
        },
        "id": "Viu2qqIzf0Cn",
        "outputId": "5b1284fc-a356-4a24-aa78-5418b3a3af1f"
      },
      "execution_count": null,
      "outputs": [
        {
          "output_type": "stream",
          "name": "stdout",
          "text": [
            "Ingrese un carácter: 4\n",
            "El carácter corresponde a un número dígito\n"
          ]
        }
      ]
    },
    {
      "cell_type": "markdown",
      "source": [
        "4. Realice un programa que lea dos números reales y determine si el primero es múltiplo del segundo."
      ],
      "metadata": {
        "id": "Rq-Eh3qHqUlx"
      }
    },
    {
      "cell_type": "code",
      "source": [
        "if __name__ == \"__main__\" :\n",
        "  numero_uno = float(input(\"Ingrese el primer número real: \"))\n",
        "  numero_dos = float(input(\"Ingrese el segundo número real: \"))\n",
        "  if (numero_uno % numero_dos) == 0 :\n",
        "    print(\"El primer número es múltiplo del segundo\")\n",
        "  else :\n",
        "    print(\"El primer número no es múltiplo del segundo número\")"
      ],
      "metadata": {
        "colab": {
          "base_uri": "https://localhost:8080/"
        },
        "id": "cwfb_Mi2f4PI",
        "outputId": "ffc5fcfe-5270-484b-ed57-f054c45cda42"
      },
      "execution_count": null,
      "outputs": [
        {
          "output_type": "stream",
          "name": "stdout",
          "text": [
            "Ingrese el primer número real: 10\n",
            "Ingrese el segundo número real: 5\n",
            "El primer número es múltiplo del segundo\n"
          ]
        }
      ]
    },
    {
      "cell_type": "markdown",
      "source": [
        "5. Dado un número real x, construya un programa que permita determinar si el número es positivo, negativo o cero. Para cada caso de debe imprimir el texto que se especifica a continuación:\n",
        "\n",
        "Positivo: \"El número x es positivo\"\n",
        "\n",
        "Negativo: \"El número x es negativo\"\n",
        "\n",
        "Cero (0): \"El número x es el neutro para la suma\"\n"
      ],
      "metadata": {
        "id": "D4mzXcsyqZLi"
      }
    },
    {
      "cell_type": "code",
      "execution_count": null,
      "metadata": {
        "colab": {
          "base_uri": "https://localhost:8080/"
        },
        "id": "Ts9gXl9gDe_V",
        "outputId": "daced50d-a181-439e-cb12-987a7368c507"
      },
      "outputs": [
        {
          "output_type": "stream",
          "name": "stdout",
          "text": [
            "Ingrese un número entero: 0\n",
            "El número 0 es neutro para la suma\n"
          ]
        }
      ],
      "source": [
        "if __name__ == \"__main__\" :\n",
        "  z = int(input(\"Ingrese un número entero: \"))\n",
        "  if z > 0 :\n",
        "    print(\"El número \" + str(z) + \" es positivo\")\n",
        "  elif z < 0 :\n",
        "    print(\"El número \" + str(z) + \" es negativo\")\n",
        "  else :\n",
        "    print(\"El número 0 es neutro para la suma\")"
      ]
    },
    {
      "cell_type": "markdown",
      "source": [
        "6. Dado el centro y el radio de un círculo, determinar si un punto de R2 pertenece o no al interior del círculo."
      ],
      "metadata": {
        "id": "uehB_v-Mqi0L"
      }
    },
    {
      "cell_type": "code",
      "source": [
        "if __name__ == \"__main__\" :\n",
        "  radio = float(input(\"Ingrese el radio de la circunferencia: \"))\n",
        "  x = float(input(\"Ingrese la abcisa del centro de la circunferencia: \"))\n",
        "  y = float(input(\"Ingrese la ordenada del centro de la circunferencia: \"))\n",
        "  h = float(input(\"Ingrese la abscisa de un punto: \"))\n",
        "  k = float(input(\"Ingrese la ordenada de un punto: \"))\n",
        "  if ((h - x)**2 + (k - y)**2) < radio**2  :\n",
        "    print(\"El punto está contenido dentro de la circunferencia\")\n",
        "  else :\n",
        "    print(\"El punto no está contenido dentro de la circunferencia\")"
      ],
      "metadata": {
        "colab": {
          "base_uri": "https://localhost:8080/"
        },
        "id": "hSTqRJLEEwHP",
        "outputId": "3c349836-34a7-48de-b09f-5e646c3cd689"
      },
      "execution_count": null,
      "outputs": [
        {
          "output_type": "stream",
          "name": "stdout",
          "text": [
            "Ingrese el radio de la circunferencia: 1\n",
            "Ingrese la abcisa del centro de la circunferencia: 0\n",
            "Ingrese la ordenada del centro de la circunferencia: 0\n",
            "Ingrese la abscisa de un punto: 0.7\n",
            "Ingrese la ordenada de un punto: 0.7\n",
            "El punto está contenido dentro de la circunferencia\n"
          ]
        }
      ]
    },
    {
      "cell_type": "markdown",
      "source": [
        "7. Dadas tres longitudes positivas, determinar si con esas longitudes se puede construir un triángulo."
      ],
      "metadata": {
        "id": "ncsxqUuvqmMy"
      }
    },
    {
      "cell_type": "code",
      "source": [
        "if __name__ == \"__main__\" :\n",
        "  a = float(input(\"Ingrese la primera longitud: \"))\n",
        "  b = float(input(\"Ingrese la segunda longitud: \"))\n",
        "  c = float(input(\"Ingrese la tercera longitud: \"))\n",
        "  if (a + b > c) and (a + c > b) and (b + c > a) :\n",
        "    print(\"Se puede construir un triángulo con las tres longitudes\")\n",
        "  else:\n",
        "    print(\"No se puede construir un triángulo con las tres longitudes\")"
      ],
      "metadata": {
        "colab": {
          "base_uri": "https://localhost:8080/"
        },
        "id": "EumMg6eyTntg",
        "outputId": "3bbc1180-da34-4352-bc23-7a7540aa8138"
      },
      "execution_count": null,
      "outputs": [
        {
          "output_type": "stream",
          "name": "stdout",
          "text": [
            "Ingrese la primera longitud: -3\n",
            "Ingrese la segunda longitud: 8\n",
            "Ingrese la tercera longitud: 6\n",
            "No se puede construir un triángulo con las tres longitudes\n"
          ]
        }
      ]
    },
    {
      "cell_type": "markdown",
      "source": [
        "8. Escriba un programa que reciba el nombre en minúsculas de un país de America y retorne la ciudad capital, si el país no pertenece al continente debe arrojar país no identificado (Utilice match-case)."
      ],
      "metadata": {
        "id": "0rfrvoXcqsFr"
      }
    },
    {
      "cell_type": "code",
      "source": [
        "pais = input(\"Ingrese un país de América en minúsculas: \")\n",
        "\n",
        "match pais:\n",
        "  case \"canadá\":\n",
        "    print(\"La capital de Canadá es Ottawa\")\n",
        "  case \"estados unidos\":\n",
        "    print(\"La capital de Estados Unidos es Washington D.C.\")\n",
        "  case \"méxico\":\n",
        "    print(\"La capital de México es Ciudad de México\")\n",
        "  case \"belice\":\n",
        "   print(\"La capital de Belice es Belmopán\")\n",
        "  case \"costa rica\":\n",
        "    print(\"La capital de Costa Rica es San José\")\n",
        "  case \"el salvador\" :\n",
        "    print(\"La capital de El Salvador es San Salvador\")\n",
        "  case \"guatemala\" :\n",
        "    print(\"La capital de Guatemala es Ciudad de Guatemala\")\n",
        "  case \"honduras\":\n",
        "    print(\"La capital de Honduras es Tegucigalpa\")\n",
        "  case \"nicaragua\":\n",
        "    print(\"La capital de Nicaragua es Managua\")\n",
        "  case \"panamá\":\n",
        "    print(\"La capital de Panamá es Ciudad de Panamá\")\n",
        "  case \"argentina\":\n",
        "    print(\"La capital de Argentina es Buenos Aires\")\n",
        "  case \"bolivia\":\n",
        "    print(\"La capital de Bolivia es Sucre\")\n",
        "  case \"brasil\":\n",
        "    print(\"La capital de Chile es Santiago de Chile\")\n",
        "  case \"colombia\":\n",
        "    print(\"La capital de Colombia es Bogotá D.C.\")\n",
        "  case \"ecuador\":\n",
        "    print(\"La capital de Ecuador es Quito\")\n",
        "  case \"paraguay\":\n",
        "    print(\"La capital de Paraguay es Asunción\")\n",
        "  case \"perú\" :\n",
        "    print(\"La capital de Perú es Lima\")\n",
        "  case \"surinam\" :\n",
        "    print(\"La capital de surinam es Parabarimo\")\n",
        "  case \"trinidad y tobago\":\n",
        "    print(\"La capital de trinidad y tobago es Puerto España\")\n",
        "  case \"uruguay\" :\n",
        "    print(\"La capital de Uruguay es Montevideo\")\n",
        "  case \"venezuela\":\n",
        "    print(\"La capital de Venezuela es Caracas\")\n",
        "  case \"antigua y barbuda\":\n",
        "    print(\"La capital de Antigua y Barbuda es Saint John\")\n",
        "  case \"bahamas\":\n",
        "    print(\"La capital de Bahamas es Nasáu\")\n",
        "  case \"barbados\":\n",
        "    print(\"La capital de Barbabados es Bridgetown\")\n",
        "  case \"cuba\":\n",
        "    print(\"La capital de Cuba es La Habana\")\n",
        "  case \"dominica\":\n",
        "    print(\"La capital de Dominica es Roseau\")\n",
        "  case \"granada\":\n",
        "    print(\"La capital de Granada es Saint George\")\n",
        "  case \"guyana\":\n",
        "    print(\"La capital de Guyana es Georgetown\")\n",
        "  case \"haití\":\n",
        "    print(\"La capital de Haití es Puerto Príncipe\")\n",
        "  case \"jamaica\":\n",
        "    print(\"La capital de Jamaica es Kingston\")\n",
        "  case \"república dominicana\":\n",
        "    print(\"La capital de República Dominicana es Santo Domingo\")\n",
        "  case \"san cristóbal y nieves\":\n",
        "    print(\"La capital de San Cristóbal y Nieves\")\n",
        "  case \"san vicente y las granadinas\":\n",
        "    print(\"La capital de San Vicente y Las Granadinas es Kingstown\")\n",
        "  case \"santa lucía\":\n",
        "    print(\"La capital de Santa Lucía es Castries\")\n",
        "  case _:\n",
        "    print(\"País no identificado\")"
      ],
      "metadata": {
        "colab": {
          "base_uri": "https://localhost:8080/"
        },
        "id": "StgXHEKXP74D",
        "outputId": "44b83a13-ccf3-470e-f4ed-e4be59822b5b"
      },
      "execution_count": null,
      "outputs": [
        {
          "output_type": "stream",
          "name": "stdout",
          "text": [
            "Ingrese un país de América en minúsculas: surinam\n",
            "La capital de surinam es Parabarimo\n"
          ]
        }
      ]
    }
  ]
}